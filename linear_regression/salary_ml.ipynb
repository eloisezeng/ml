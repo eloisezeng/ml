{
 "cells": [
  {
   "cell_type": "code",
   "execution_count": 2,
   "metadata": {},
   "outputs": [],
   "source": [
    "import pandas as pd\n",
    "import seaborn as sns\n",
    "import numpy as np\n",
    "data = pd.read_csv(\"Salary_Data.csv\")\n",
    "# data.drop(213, inplace=True)\n",
    "# sns.scatterplot(x=data['YearsExperience'], y=data['Salary'])"
   ]
  },
  {
   "cell_type": "code",
   "execution_count": 3,
   "metadata": {},
   "outputs": [],
   "source": [
    "m = data.shape[0]\n",
    "data.insert(0, 'ones', 1)\n",
    "arr = data.to_numpy()\n",
    "X = arr[:, 0:2]\n",
    "y = arr[:, 2]"
   ]
  },
  {
   "cell_type": "code",
   "execution_count": 4,
   "metadata": {},
   "outputs": [
    {
     "data": {
      "text/plain": [
       "(30, 2)"
      ]
     },
     "execution_count": 4,
     "metadata": {},
     "output_type": "execute_result"
    }
   ],
   "source": [
    "alpha = 0.01\n",
    "iterations = 1500\n",
    "theta = (np.matrix([0, 0])).astype(float)\n",
    "X.shape"
   ]
  },
  {
   "cell_type": "code",
   "execution_count": 4,
   "metadata": {},
   "outputs": [],
   "source": [
    "def compute_cost(x, y, theta):\n",
    "    cost = 1 / (2 * m) * np.sum(np.square(x * theta.transpose() - y))\n",
    "    return cost"
   ]
  },
  {
   "cell_type": "code",
   "execution_count": 5,
   "metadata": {},
   "outputs": [
    {
     "data": {
      "text/plain": [
       "(30,)"
      ]
     },
     "execution_count": 5,
     "metadata": {},
     "output_type": "execute_result"
    }
   ],
   "source": [
    "(arr[:, 0]).shape\n",
    "# print(arr.dtype)"
   ]
  },
  {
   "cell_type": "code",
   "execution_count": 101,
   "metadata": {},
   "outputs": [
    {
     "name": "stdout",
     "output_type": "stream",
     "text": [
      "theta [[24793.90999433  9598.10440836]]\n",
      "15743197.353698693\n"
     ]
    },
    {
     "data": {
      "text/plain": [
       "<matplotlib.axes._subplots.AxesSubplot at 0x1a252a52d0>"
      ]
     },
     "execution_count": 101,
     "metadata": {},
     "output_type": "execute_result"
    },
    {
     "data": {
      "image/png": "[encoded data removed]",
      "text/plain": [
       "<Figure size 432x288 with 1 Axes>"
      ]
     },
     "metadata": {
      "needs_background": "light"
     },
     "output_type": "display_data"
    }
   ],
   "source": [
    "y = np.reshape(y, (m, 1))\n",
    "x = arr[:, 1]\n",
    "x = np.reshape(x, (m, 1))\n",
    "J_history = np.array([0, 0])\n",
    "for iters in range(1, iterations):\n",
    "    hypothesis = X * theta.transpose()\n",
    "    theta[0, 0] = theta[0, 0] - alpha / m * np.sum((hypothesis - y)) \n",
    "    theta[0, 1] = theta[0, 1] - alpha / m * np.sum(np.multiply(hypothesis - y, x))\n",
    "    J_history = np.vstack((J_history, np.array([iters, compute_cost(X, y, theta)])))\n",
    "print('theta', theta)\n",
    "print(compute_cost(X, y, theta))\n",
    "# print(J_history)\n",
    "sns.scatterplot(x=J_history[:, 0], y=J_history[:, 1])"
   ]
  },
  {
   "cell_type": "code",
   "execution_count": 102,
   "metadata": {},
   "outputs": [
    {
     "data": {
      "text/plain": [
       "<matplotlib.axes._subplots.AxesSubplot at 0x1a2552ef50>"
      ]
     },
     "execution_count": 102,
     "metadata": {},
     "output_type": "execute_result"
    },
    {
     "data": {
      "image/png": "[encoded data removed]",
      "text/plain": [
       "<Figure size 432x288 with 1 Axes>"
      ]
     },
     "metadata": {
      "needs_background": "light"
     },
     "output_type": "display_data"
    }
   ],
   "source": [
    "sns.scatterplot(x=data['YearsExperience'], y=data['Salary'])\n",
    "sns.scatterplot(arr[:, 1], theta[0, 1] * arr[:, 1] + theta[0, 0])"
   ]
  },
  {
   "cell_type": "code",
   "execution_count": null,
   "metadata": {},
   "outputs": [],
   "source": []
  }
 ],
 "metadata": {
  "kernelspec": {
   "display_name": "Python 3",
   "language": "python",
   "name": "python3"
  },
  "language_info": {
   "codemirror_mode": {
    "name": "ipython",
    "version": 3
   },
   "file_extension": ".py",
   "mimetype": "text/x-python",
   "name": "python",
   "nbconvert_exporter": "python",
   "pygments_lexer": "ipython3",
   "version": "3.7.4"
  }
 },
 "nbformat": 4,
 "nbformat_minor": 4
}
