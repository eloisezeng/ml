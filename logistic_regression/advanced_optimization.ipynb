{
 "cells": [
  {
   "cell_type": "markdown",
   "metadata": {},
   "source": [
    "# Advanced Optimization TNC Function"
   ]
  },
  {
   "cell_type": "code",
   "execution_count": null,
   "metadata": {},
   "outputs": [],
   "source": [
    "import numpy as np\n",
    "import scipy.optimize as op\n",
    "\n",
    "def sigmoid(z):\n",
    "    z = np.ones(z.shape) / (1 + np.exp(-z))\n",
    "    return z\n",
    "\n",
    "def Gradient(theta,x,y):\n",
    "    m,n = x.shape\n",
    "    theta = theta.reshape((n,1)) \n",
    "    y = y.reshape((m,1))\n",
    "    sigmoid_x_theta = sigmoid(x.dot(theta)) \n",
    "    grad = ((x.T).dot(sigmoid_x_theta-y))/m \n",
    "    return grad.flatten() \n",
    "\n",
    "def CostFunc(theta,x,y):\n",
    "    m,n = x.shape  \n",
    "    theta = theta.reshape((n,1)) \n",
    "    y = y.reshape((m,1)) \n",
    "    term1 = np.log(sigmoid(x.dot(theta))) \n",
    "    term2 = np.log(1-sigmoid(x.dot(theta))) \n",
    "    term1 = term1.reshape((m,1))\n",
    "    term2 = term2.reshape((m,1))\n",
    "    term = y * term1 + (1 - y) * term2 \n",
    "    J = -((np.sum(term))/m) \n",
    "    return J \n",
    "\n",
    "m,n = X_train.shape\n",
    "theta = np.random.normal(size=(n, 1))\n",
    "Result = op.minimize(fun = CostFunc, \n",
    "                     x0 = theta, \n",
    "                     args = (X_train, y_train),\n",
    "                     method = 'TNC',\n",
    "                     jac = Gradient) \n",
    "\n",
    "theta = Result.x # optimal theta"
   ]
  },
  {
   "cell_type": "markdown",
   "metadata": {},
   "source": [
    "# Manual Grad Descent"
   ]
  },
  {
   "cell_type": "code",
   "execution_count": null,
   "metadata": {},
   "outputs": [],
   "source": [
    "alpha = 0.0003\n",
    "iterations = 1500\n",
    "theta = np.matrix(np.random.normal(size=(1, X_train.shape[1]))).astype(float).T\n",
    "def compute_cost(x, y, theta):\n",
    "    hypothesis = sigmoid(x * theta)\n",
    "    cost = -1/m * sum(np.multiply(y, np.log(hypothesis)) + np.multiply((1 - y), np.log(1 - hypothesis)))\n",
    "    return cost"
   ]
  },
  {
   "cell_type": "code",
   "execution_count": null,
   "metadata": {},
   "outputs": [],
   "source": [
    "J_history = np.array([0, 0])\n",
    "for iters in range(1, iterations):\n",
    "    hypo = sigmoid(X_train * theta)\n",
    "    theta = theta - alpha * 1/m * X_train.T * (hypo - y_train) \n",
    "    cost = np.array([iters, compute_cost(X_train, y_train, theta)], dtype=object)\n",
    "    J_history = np.vstack((J_history, cost))\n",
    "print(theta)\n",
    "print(compute_cost(X_train, y_train, theta)) \n",
    "J_history = np.delete(J_history, 0, axis=0)\n",
    "plt.figure(figsize=(5, 3), dpi=150)\n",
    "plt.plot(J_history[:, 0], J_history[:, 1], linewidth=2)\n",
    "plt.xlabel('# of Iterations')\n",
    "plt.ylabel('Cost')\n",
    "plt.show()"
   ]
  }
 ],
 "metadata": {
  "kernelspec": {
   "display_name": "Python 3",
   "language": "python",
   "name": "python3"
  },
  "language_info": {
   "codemirror_mode": {
    "name": "ipython",
    "version": 3
   },
   "file_extension": ".py",
   "mimetype": "text/x-python",
   "name": "python",
   "nbconvert_exporter": "python",
   "pygments_lexer": "ipython3",
   "version": "3.7.4"
  }
 },
 "nbformat": 4,
 "nbformat_minor": 4
}
