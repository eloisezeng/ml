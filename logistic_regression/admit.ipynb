{
 "cells": [
  {
   "cell_type": "code",
   "execution_count": 13,
   "metadata": {},
   "outputs": [],
   "source": [
    "import pandas as pd\n",
    "import numpy as np\n",
    "import seaborn as sns\n",
    "from math import *\n",
    "admit = pd.read_csv(\"admit.csv\")\n",
    "pos = admit.loc[admit.accepted == 1].index.values\n",
    "neg = admit.loc[admit.accepted == 0].index.values\n",
    "\n",
    "# sns.scatterplot(x=admit.test_1[pos], y=admit.test_2[pos])\n",
    "# sns.scatterplot(x=admit.test_1[neg], y=admit.test_2[neg])\n",
    "\n",
    "admit.insert(0, 'ones', 1)\n",
    "train_x = admit.iloc[:int(len(admit) * 0.7), :-1].to_numpy()\n",
    "train_y = np.reshape(admit.iloc[:int(len(admit) * 0.7), -1].to_numpy(), (int(len(admit) * 0.7), 1))\n",
    "test_x = admit.iloc[int(len(admit) * 0.7):, :-1].to_numpy()\n",
    "test_y = np.reshape(admit.iloc[int(len(admit) * 0.7):, -1].to_numpy(), (int(len(admit) * 0.3), 1))\n",
    "M = admit.shape[0]\n",
    "m = train_x.shape[0]\n",
    "# admit"
   ]
  },
  {
   "cell_type": "code",
   "execution_count": 17,
   "metadata": {},
   "outputs": [],
   "source": [
    "def sigmoid(z):\n",
    "    z = np.ones(z.shape) / (1 + np.exp(-z))\n",
    "    return z\n",
    "\n",
    "alpha = 0.001\n",
    "iterations = 1500 # Make admit run faster\n",
    "theta = np.matrix(np.zeros([train_x.shape[1]])).astype(float).T\n",
    "def compute_cost(x, y, theta):\n",
    "    hypothesis = sigmoid(x * theta)\n",
    "    # these costs are equal\n",
    "    # cost = 1/m * sum(np.multiply(-y, np.log(hypothesis)) - \n",
    "                     # np.multiply((1 - y), np.log(1 - hypothesis)))\n",
    "    cost = -1/m * sum(np.multiply(y, np.log(hypothesis)) + np.multiply((1 - y), np.log(1 - hypothesis)))\n",
    "    return cost"
   ]
  },
  {
   "cell_type": "code",
   "execution_count": 15,
   "metadata": {},
   "outputs": [
    {
     "data": {
      "text/plain": [
       "array([0.5       , 0.73105858])"
      ]
     },
     "execution_count": 15,
     "metadata": {},
     "output_type": "execute_result"
    }
   ],
   "source": [
    "sigmoid(np.array([0, 1]))"
   ]
  },
  {
   "cell_type": "code",
   "execution_count": 18,
   "metadata": {},
   "outputs": [
    {
     "name": "stdout",
     "output_type": "stream",
     "text": [
      "[[-0.11311122]\n",
      " [ 0.01478922]\n",
      " [-0.00239546]]\n",
      "[[0.67223507]]\n"
     ]
    },
    {
     "data": {
      "text/plain": [
       "<matplotlib.axes._subplots.AxesSubplot at 0x1a16d338d0>"
      ]
     },
     "execution_count": 18,
     "metadata": {},
     "output_type": "execute_result"
    },
    {
     "data": {
      "image/png": "[encoded data removed]",
      "text/plain": [
       "<Figure size 432x288 with 1 Axes>"
      ]
     },
     "metadata": {
      "needs_background": "light"
     },
     "output_type": "display_data"
    }
   ],
   "source": [
    "# logistic regression on training data\n",
    "J_history = np.array([0, 0])\n",
    "for iters in range(1, iterations):\n",
    "    hypo = sigmoid(train_x * theta)\n",
    "    theta = theta - alpha * 1/m * train_x.T * (hypo - train_y) \n",
    "    cost = np.array([iters, compute_cost(train_x, train_y, theta)], dtype=object)\n",
    "    J_history = np.vstack((J_history, cost))\n",
    "print(theta)\n",
    "print(compute_cost(train_x, train_y, theta)) \n",
    "J_history = np.delete(J_history, 0, axis=0)\n",
    "sns.scatterplot(x=J_history[:, 0], y=J_history[:, 1])"
   ]
  },
  {
   "cell_type": "code",
   "execution_count": null,
   "metadata": {},
   "outputs": [],
   "source": [
    "import matplotlib.pyplot as plt\n",
    "%matplotlib inline\n",
    "\n",
    "plt.scatter(admit.test_1[pos], admit.test_2[pos])\n",
    "plt.scatter(admit.test_1[neg], admit.test_2[neg])\n",
    "data = np.reshape(admit.test_1.to_numpy(), (M, 1))\n",
    "y = (data * -theta[1] - theta[0]) / theta[2]\n",
    "plt.plot(admit.test_1, y)"
   ]
  },
  {
   "cell_type": "code",
   "execution_count": null,
   "metadata": {},
   "outputs": [],
   "source": [
    "plt.plot(J_history[:, 0], J_history[:, 1])"
   ]
  },
  {
   "cell_type": "code",
   "execution_count": null,
   "metadata": {},
   "outputs": [],
   "source": [
    "def predict(x):\n",
    "    predict = sigmoid(np.dot(x, (np.array([[-6.65617611],[ 0.06092167],[ 0.04681831]]))))\n",
    "    # print(predict)\n",
    "    predict[predict >= 0.5] = 1\n",
    "    predict[predict < 0.5] = 0\n",
    "    return predict"
   ]
  },
  {
   "cell_type": "code",
   "execution_count": null,
   "metadata": {},
   "outputs": [],
   "source": [
    "d = np.concatenate([predict(test_x), test_y], axis=1)\n",
    "acc_test = round(sum(d[:, 0] == d[:, 1])/len(test_y), 2)\n",
    "e = np.concatenate([predict(train_x), train_y], axis=1)\n",
    "acc_train = round(sum(e[:, 0] == e[:, 1])/len(train_y), 2"
   ]
  },
  {
   "cell_type": "code",
   "execution_count": null,
   "metadata": {},
   "outputs": [],
   "source": [
    "# logistic regression on entire data set\n",
    "J_history = np.array([0, 0])\n",
    "all_x = admit.iloc[:, :-1].to_numpy()\n",
    "all_y = np.reshape(((admit.iloc[:, -1]).to_numpy()), (100, 1))\n",
    "for iters in range(1, iterations):\n",
    "    hypo = sigmoid(all_x * theta) # fix function \n",
    "    theta = theta - alpha * 1/M * all_x.T * (hypo - all_y) # theta has positive values bc grad has negative. theta - (-number) = pos \n",
    "    cost = np.array([iters, compute_cost(all_x, all_y, theta)], dtype=object) # cost is diff from Matlab, bc we computed cost after changing thetas\n",
    "    J_history = np.vstack((J_history, cost))\n",
    "    # print(iters, np.round(theta, 4), '\\n')\n",
    "print('theta', theta) \n",
    "print(compute_cost(all_x, all_y, theta)) # need cost to stop at 0\n",
    "J_history = np.delete(J_history, 0, axis=0)\n",
    "sns.scatterplot(x=J_history[:, 0], y=J_history[:, 1])"
   ]
  },
  {
   "cell_type": "code",
   "execution_count": null,
   "metadata": {},
   "outputs": [],
   "source": []
  }
 ],
 "metadata": {
  "kernelspec": {
   "display_name": "Python 3",
   "language": "python",
   "name": "python3"
  },
  "language_info": {
   "codemirror_mode": {
    "name": "ipython",
    "version": 3
   },
   "file_extension": ".py",
   "mimetype": "text/x-python",
   "name": "python",
   "nbconvert_exporter": "python",
   "pygments_lexer": "ipython3",
   "version": "3.7.4"
  }
 },
 "nbformat": 4,
 "nbformat_minor": 4
}
