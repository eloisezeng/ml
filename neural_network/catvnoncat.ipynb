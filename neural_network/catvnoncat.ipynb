{
 "cells": [
  {
   "cell_type": "code",
   "execution_count": 1,
   "metadata": {},
   "outputs": [],
   "source": [
    "import pandas as pd\n",
    "import numpy as np\n",
    "from math import *\n",
    "import matplotlib.pyplot as plt\n",
    "%matplotlib inline\n",
    "import h5py\n",
    "from PIL import Image\n",
    "from scipy import ndimage\n",
    "from sklearn import preprocessing\n",
    "import scipy\n",
    "from sklearn.decomposition import PCA\n",
    "from scipy.special import expit\n",
    "np.random.seed(1)"
   ]
  },
  {
   "cell_type": "code",
   "execution_count": 2,
   "metadata": {},
   "outputs": [],
   "source": [
    "def load_dataset():\n",
    "    train_dataset = h5py.File('train_catvnoncat.h5', \"r\")\n",
    "    train_set_x_orig = np.array(train_dataset[\"train_set_x\"][:]) # your train set features\n",
    "    train_set_y_orig = np.array(train_dataset[\"train_set_y\"][:]) # your train set labels\n",
    "\n",
    "    test_dataset = h5py.File('test_catvnoncat.h5', \"r\")\n",
    "    test_set_x_orig = np.array(test_dataset[\"test_set_x\"][:]) # your test set features\n",
    "    test_set_y_orig = np.array(test_dataset[\"test_set_y\"][:]) # your test set labels\n",
    "\n",
    "    classes = np.array(test_dataset[\"list_classes\"][:]) # the list of classes\n",
    "    \n",
    "    train_set_y_orig = train_set_y_orig.reshape((1, train_set_y_orig.shape[0]))\n",
    "    test_set_y_orig = test_set_y_orig.reshape((1, test_set_y_orig.shape[0]))\n",
    "    \n",
    "    return train_set_x_orig, train_set_y_orig, test_set_x_orig, test_set_y_orig, classes"
   ]
  },
  {
   "cell_type": "code",
   "execution_count": 3,
   "metadata": {},
   "outputs": [
    {
     "name": "stdout",
     "output_type": "stream",
     "text": [
      "(209, 64, 64, 3)\n",
      "(209, 1)\n",
      "(50, 64, 64, 3)\n",
      "(50, 1)\n"
     ]
    }
   ],
   "source": [
    "X_train, y_train, X_test, y_test, classes = load_dataset()\n",
    "X_train = X_train/255\n",
    "X_test = X_test/255\n",
    "y_train = y_train.T\n",
    "y_test = y_test.T\n",
    "\n",
    "print(X_train.shape)\n",
    "print(y_train.shape)\n",
    "print(X_test.shape)\n",
    "print(y_test.shape)"
   ]
  },
  {
   "cell_type": "code",
   "execution_count": 4,
   "metadata": {},
   "outputs": [],
   "source": [
    "def evenly_distribute(data): # Dataset (include X_train and y_train)\n",
    "    negative = data[data[:, -1] == 0]\n",
    "    positive = data[data[:, -1] == 1]\n",
    "    negative_shrunk = negative[:len(positive), :]\n",
    "    data = np.concatenate((positive, negative_shrunk))\n",
    "    np.random.seed(42) \n",
    "    np.random.shuffle(data)\n",
    "    return data"
   ]
  },
  {
   "cell_type": "code",
   "execution_count": 5,
   "metadata": {},
   "outputs": [
    {
     "data": {
      "text/plain": [
       "(210, 12289)"
      ]
     },
     "execution_count": 5,
     "metadata": {},
     "output_type": "execute_result"
    }
   ],
   "source": [
    "X_train = X_train.reshape((209, 12288))\n",
    "X_test = X_test.reshape((50, 12288))\n",
    "train_data = np.concatenate((X_train, y_train), axis=1)\n",
    "test_data = np.concatenate((X_test, y_test), axis=1)\n",
    "data = np.concatenate((train_data, test_data))\n",
    "data = evenly_distribute(data)\n",
    "data.shape"
   ]
  },
  {
   "cell_type": "code",
   "execution_count": 6,
   "metadata": {},
   "outputs": [],
   "source": [
    "from sklearn.model_selection import train_test_split\n",
    "\n",
    "training, test = train_test_split(data,\n",
    "                                test_size=0.3, \n",
    "                                random_state=42)\n",
    "\n",
    "X_train = training[:, :-1]\n",
    "y_train = np.reshape(training[:, -1], (len(X_train), 1))\n",
    "X_test = test[:, :-1]\n",
    "y_test = np.reshape(test[:, -1], (len(X_test), 1))"
   ]
  },
  {
   "cell_type": "code",
   "execution_count": 7,
   "metadata": {},
   "outputs": [
    {
     "data": {
      "text/plain": [
       "(147, 12289)"
      ]
     },
     "execution_count": 7,
     "metadata": {},
     "output_type": "execute_result"
    }
   ],
   "source": [
    "training.shape"
   ]
  },
  {
   "cell_type": "code",
   "execution_count": 8,
   "metadata": {},
   "outputs": [
    {
     "data": {
      "image/png": "[encoded data removed]",
      "text/plain": [
       "<Figure size 432x288 with 1 Axes>"
      ]
     },
     "metadata": {
      "needs_background": "light"
     },
     "output_type": "display_data"
    }
   ],
   "source": [
    "pca = PCA().fit(X_train)\n",
    "plt.plot(np.cumsum(pca.explained_variance_ratio_))\n",
    "plt.xlabel('number of components')\n",
    "plt.ylabel('cumulative explained variance');"
   ]
  },
  {
   "cell_type": "code",
   "execution_count": 9,
   "metadata": {},
   "outputs": [
    {
     "data": {
      "text/plain": [
       "(147, 12288)"
      ]
     },
     "execution_count": 9,
     "metadata": {},
     "output_type": "execute_result"
    }
   ],
   "source": [
    "X_train.shape"
   ]
  },
  {
   "cell_type": "code",
   "execution_count": 10,
   "metadata": {},
   "outputs": [
    {
     "name": "stdout",
     "output_type": "stream",
     "text": [
      "124\n"
     ]
    }
   ],
   "source": [
    "for k in range(10, 200):\n",
    "    S = pca.explained_variance_ratio_\n",
    "    if sum(S[:k]) / sum(S) >= 0.99:\n",
    "        K = k # reduced num of features\n",
    "        print(k)\n",
    "        break"
   ]
  },
  {
   "cell_type": "code",
   "execution_count": 11,
   "metadata": {},
   "outputs": [],
   "source": [
    "pca = PCA(n_components=K)\n",
    "\n",
    "X_combined = np.concatenate([X_train, X_test])\n",
    "X_combined = pca.fit_transform(X_combined)\n",
    "X_train_reduced = X_combined[:len(X_train), :]\n",
    "X_test_reduced = X_combined[len(X_train):, :]"
   ]
  },
  {
   "cell_type": "code",
   "execution_count": 15,
   "metadata": {},
   "outputs": [
    {
     "data": {
      "text/plain": [
       "(147, 124)"
      ]
     },
     "execution_count": 15,
     "metadata": {},
     "output_type": "execute_result"
    }
   ],
   "source": [
    "X_train_reduced.shape"
   ]
  },
  {
   "cell_type": "code",
   "execution_count": 28,
   "metadata": {},
   "outputs": [],
   "source": [
    "def sigmoid(z):\n",
    "    z = np.ones(z.shape) / (1 + np.exp(-z))\n",
    "    return z\n",
    "\n",
    "# return cost function and partial derivatives for gradient\n",
    "def nn(nn_params, X, y):\n",
    "    input_layer_size = K # 124 not 171 after reducing dataset so num pos and neg ex are equal\n",
    "    hidden_layer_size = 500   \n",
    "    num_labels = 1                \n",
    "    reg_lambda = 0\n",
    "    ones = np.reshape(np.ones(len(X)), (len(X), 1))\n",
    "    X = np.concatenate((ones, X), axis=1)\n",
    "\n",
    "    # Reshape nn_params back into the parameters Theta1 and Theta2, the weight matrices\n",
    "    # for our 2 layer neural network\n",
    "    Theta1 = np.reshape(nn_params[:hidden_layer_size * (input_layer_size + 1)],\n",
    "                     (hidden_layer_size, (input_layer_size + 1)))\n",
    "    Theta2 = np.reshape(nn_params[(hidden_layer_size * (input_layer_size + 1)):],\n",
    "                     (num_labels, (hidden_layer_size + 1)))\n",
    "\n",
    "    m = len(X) \n",
    "    Theta1_grad = np.zeros(Theta1.shape) \n",
    "    Theta2_grad = np.zeros(Theta2.shape) \n",
    "    \n",
    "    a1 = X  # (209, 172)\n",
    "    z2 = a1 @ Theta1.T  # (209, 172) * (172, 114) => 209 x 114\n",
    "    a2 = sigmoid(z2)  # 209 x 114\n",
    "    a2 = np.hstack((np.ones((len(X), 1)), a2)) # 209 x 115\n",
    "    z3 = a2 @ Theta2.T # 209 x 115 * 115 x 1\n",
    "    a3 = sigmoid(z3)   # 209 x 1\n",
    "    pre_allocated = np.empty_like(a3)\n",
    "    d3 = np.subtract(a3, y, out=pre_allocated)\n",
    "    d2 = d3 @ Theta2[:, 1:] * sigmoid(z2)  # 209 x 1 * 1 x 114 => 209 x 114\n",
    "   \n",
    "    Theta1_grad = 1/m * (Theta1_grad + d2.T @ a1)  # 114 x 209 * 209 x 172 => (114, 172)\n",
    "    Theta2_grad = 1/m * (Theta2_grad + d3.T @ a2)  # 1 x 209 * 209 x 115  => (1, 115)   \n",
    "    \n",
    "    Theta1_grad[:, 1:] = Theta1_grad[:, 1:] + 1/m * (reg_lambda * Theta1[:, 1:])  \n",
    "    Theta2_grad[:, 1:] = Theta2_grad[:, 1:] + 1/m * (reg_lambda * Theta2[:, 1:])    \n",
    "\n",
    "    term1 = expit(np.log(a3))\n",
    "    term2 = expit(np.log(1 - a3))\n",
    "    \n",
    "    J = -1/m * (sum(sum(y * term1 + (1 - y) * term2)))\n",
    "    + reg_lambda/(2*m) * (sum(sum(Theta1[:, 1:] ** 2)) + sum(sum(Theta2[:, 1:] ** 2))) \n",
    "\n",
    "    grad = np.concatenate((np.ravel(Theta1_grad), np.ravel(Theta2_grad))) # Unroll gradients\n",
    "    return J, grad\n",
    "\n",
    "def CostFunc(nn_params, X, y):\n",
    "    J = nn(nn_params, X, y)[0]\n",
    "    return J\n",
    "def Gradient(nn_params, X, y):\n",
    "    grad = nn(nn_params, X, y)[1]\n",
    "    return grad"
   ]
  },
  {
   "cell_type": "code",
   "execution_count": 29,
   "metadata": {},
   "outputs": [
    {
     "name": "stderr",
     "output_type": "stream",
     "text": [
      "/Users/eloisezeng/opt/anaconda3/lib/python3.7/site-packages/ipykernel_launcher.py:42: RuntimeWarning: divide by zero encountered in log\n"
     ]
    },
    {
     "data": {
      "text/plain": [
       "array([0.04513457, 0.39170854, 0.15035672, ..., 0.254408  , 0.25918753,\n",
       "       0.25310993])"
      ]
     },
     "execution_count": 29,
     "metadata": {},
     "output_type": "execute_result"
    }
   ],
   "source": [
    "input_layer_size  = K  # 172 features\n",
    "hidden_layer_size = 500   # (2/3 the size of input layer)\n",
    "num_labels = 1          # cat or noncat\n",
    "\n",
    "Theta1 = np.random.uniform(size=(hidden_layer_size, input_layer_size + 1)) # size([# hidden units], [# input units + 1])\n",
    "Theta2 = np.random.uniform(size=(num_labels, hidden_layer_size + 1))  # size([# output units], [# hidden units + 1])\n",
    "nn_params = np.concatenate((np.ravel(Theta1), np.ravel(Theta2)))\n",
    "Trial = Gradient(nn_params, X_train_reduced, y_train)\n",
    "Trial"
   ]
  },
  {
   "cell_type": "code",
   "execution_count": 30,
   "metadata": {},
   "outputs": [
    {
     "name": "stderr",
     "output_type": "stream",
     "text": [
      "/Users/eloisezeng/opt/anaconda3/lib/python3.7/site-packages/ipykernel_launcher.py:42: RuntimeWarning: divide by zero encountered in log\n"
     ]
    },
    {
     "data": {
      "text/plain": [
       "     fun: -0.24986811686478466\n",
       "     jac: array([0.22812203, 1.78348198, 0.29956823, ..., 0.24247415, 0.25404566,\n",
       "       0.23240786])\n",
       " message: 'Converged (|f_n-f_(n-1)| ~= 0)'\n",
       "    nfev: 53\n",
       "     nit: 1\n",
       "  status: 1\n",
       " success: True\n",
       "       x: array([0.46316163, 0.76592633, 0.54371069, ..., 0.91786762, 0.33470008,\n",
       "       0.78353406])"
      ]
     },
     "execution_count": 30,
     "metadata": {},
     "output_type": "execute_result"
    }
   ],
   "source": [
    "import scipy.optimize as op\n",
    "\n",
    "input_layer_size  = K  # 124 features\n",
    "hidden_layer_size = 500   # (2/3 the size of input layer)\n",
    "num_labels = 1          # cat or noncat\n",
    " \n",
    "Theta1 = np.random.uniform(size=(hidden_layer_size, input_layer_size + 1)) # hidden_layer_size x (input_layer_size + 1)\n",
    "Theta2 = np.random.uniform(size=(num_labels, hidden_layer_size + 1))  # size([# output units], [# hidden units + 1])\n",
    "nn_params = np.concatenate((np.ravel(Theta1), np.ravel(Theta2)))\n",
    "\n",
    "Result = op.minimize(fun = CostFunc, \n",
    "                    x0 = nn_params, \n",
    "                    args = (X_train_reduced, y_train),\n",
    "                    jac = Gradient, method='TNC') \n",
    "\n",
    "nn_params = Result.x # optimal theta\n",
    "Result"
   ]
  },
  {
   "cell_type": "code",
   "execution_count": 31,
   "metadata": {},
   "outputs": [
    {
     "name": "stdout",
     "output_type": "stream",
     "text": [
      "48.3 %\n",
      "53.97 %\n"
     ]
    }
   ],
   "source": [
    "Theta1 = np.reshape(nn_params[:hidden_layer_size * (input_layer_size + 1)],\n",
    "                     (hidden_layer_size, (input_layer_size + 1)))\n",
    "Theta2 = np.reshape(nn_params[(hidden_layer_size * (input_layer_size + 1)):],\n",
    "                     (num_labels, (hidden_layer_size + 1)))\n",
    "def predict(Theta1, Theta2, X):\n",
    "    m = len(X)\n",
    "    num_labels = Theta2.shape[0]\n",
    "    \n",
    "    X = np.hstack((np.ones((len(X), 1)), X)) # (209, 172)\n",
    "    a1 = X  # (209, 172)\n",
    "    z2 = a1 @ Theta1.T  # (209, 172) * (172, 114) => 209 x 114\n",
    "    a2 = sigmoid(z2)  # 209 x 114\n",
    "    a2 = np.hstack((np.ones((len(X), 1)), a2)) # 209 x 115\n",
    "    z3 = a2 @ Theta2.T # 209 x 115 * 115 x 1\n",
    "    a3 = sigmoid(z3)   # 209 x 1\n",
    "    a3[a3 >= 0.5] = 1\n",
    "    a3[a3 < 0.5] = 0\n",
    "    \n",
    "    return a3\n",
    "\n",
    "accuracy = sum(sum(predict(Theta1, Theta2, X_train_reduced) == y_train)) / len(X_train_reduced)\n",
    "print(str(round(accuracy * 100, 2)) + \" %\")\n",
    "accuracy = sum(sum(predict(Theta1, Theta2, X_test_reduced) == y_test)) / len(X_test_reduced)\n",
    "print(str(round(accuracy * 100, 2)) + \" %\")"
   ]
  },
  {
   "cell_type": "code",
   "execution_count": 32,
   "metadata": {},
   "outputs": [
    {
     "name": "stdout",
     "output_type": "stream",
     "text": [
      "[0.         0.65137615] \n",
      "\n",
      "[0.         0.70103093] \n",
      "\n"
     ]
    }
   ],
   "source": [
    "from sklearn.metrics import f1_score, confusion_matrix\n",
    "print(f1_score(y_train, predict(Theta1, Theta2, X_train_reduced), average=None), '\\n')\n",
    "print(f1_score(y_test, predict(Theta1, Theta2, X_test_reduced), average=None), '\\n')\n",
    "# 0.73 F1-score when there's cat. \n",
    "# 0.58 F1-score when there's no cat. "
   ]
  },
  {
   "cell_type": "code",
   "execution_count": 33,
   "metadata": {},
   "outputs": [
    {
     "name": "stdout",
     "output_type": "stream",
     "text": [
      "[[ 0 76]\n",
      " [ 0 71]] \n",
      "\n",
      "[[ 0 29]\n",
      " [ 0 34]]\n"
     ]
    }
   ],
   "source": [
    "print(confusion_matrix(y_train, predict(Theta1, Theta2, X_train_reduced)), '\\n')\n",
    "print(confusion_matrix(y_test, predict(Theta1, Theta2, X_test_reduced)))"
   ]
  },
  {
   "cell_type": "code",
   "execution_count": 34,
   "metadata": {},
   "outputs": [
    {
     "name": "stdout",
     "output_type": "stream",
     "text": [
      "[0.53968254]\n",
      "[0.4829932]\n",
      "[0.5]\n"
     ]
    }
   ],
   "source": [
    "print(sum(y_test == 1) / len(y_test))\n",
    "print(sum(y_train == 1) / len(y_train))\n",
    "data = np.concatenate((y_train, y_test))\n",
    "print(sum(data == 1) / len(data)) # 48 % of images are cats"
   ]
  },
  {
   "cell_type": "code",
   "execution_count": null,
   "metadata": {},
   "outputs": [],
   "source": []
  }
 ],
 "metadata": {
  "kernelspec": {
   "display_name": "Python 3",
   "language": "python",
   "name": "python3"
  },
  "language_info": {
   "codemirror_mode": {
    "name": "ipython",
    "version": 3
   },
   "file_extension": ".py",
   "mimetype": "text/x-python",
   "name": "python",
   "nbconvert_exporter": "python",
   "pygments_lexer": "ipython3",
   "version": "3.7.4"
  }
 },
 "nbformat": 4,
 "nbformat_minor": 4
}
