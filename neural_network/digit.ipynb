{
 "cells": [
  {
   "cell_type": "markdown",
   "metadata": {},
   "source": [
    "# Classifier is much faster with PCA, however it's accuracy 12%\n",
    "# Without PCA, accuracy ~ 55%"
   ]
  },
  {
   "cell_type": "code",
   "execution_count": 114,
   "metadata": {},
   "outputs": [],
   "source": [
    "import pandas as pd\n",
    "import numpy as np\n",
    "from math import *\n",
    "import matplotlib.pyplot as plt\n",
    "import csv\n",
    "from PIL import Image \n",
    "import itertools\n",
    "from sklearn.model_selection import train_test_split\n",
    "from scipy.special import expit\n",
    "%matplotlib inline\n",
    "from sklearn import preprocessing\n",
    "import scipy\n",
    "from sklearn.decomposition import PCA"
   ]
  },
  {
   "cell_type": "code",
   "execution_count": 115,
   "metadata": {},
   "outputs": [],
   "source": [
    "data = pd.read_csv(\"mnist_train.csv\") # First column = labels. Rest are pixels\n",
    "data = data.to_numpy()\n",
    "y = data[:, 0]\n",
    "# normalize those columns so we don't have RuntimeWarning: overflow encountered in exp\n",
    "X = data[:, 1:]\n",
    "# sum_cols = X.sum(axis=0)\n",
    "# indice = np.nonzero(sum_cols != 0)\n",
    "# indice = list(itertools.chain(*indice))\n",
    "X = X.astype('float64')\n",
    "# X[:, indice] = (X[:, indice] - X[:, indice].mean(axis=0)) \\\n",
    "#                            / (X[:, indice].max(axis=0) - X[:, indice].min(axis=0))\n",
    "\n",
    "X_train, X_test, y_train, y_test = train_test_split(X, y, test_size=0.3, random_state=42)\n",
    "X_train = X_train / 255\n",
    "X_test = X_test / 255\n",
    "y_train = np.reshape(y_train, (len(y_train),1))\n",
    "y_test = np.reshape(y_test, (len(y_test),1))"
   ]
  },
  {
   "cell_type": "code",
   "execution_count": 116,
   "metadata": {},
   "outputs": [
    {
     "data": {
      "text/plain": [
       "(42000, 784)"
      ]
     },
     "execution_count": 116,
     "metadata": {},
     "output_type": "execute_result"
    }
   ],
   "source": [
    "X_train.shape"
   ]
  },
  {
   "cell_type": "code",
   "execution_count": 117,
   "metadata": {},
   "outputs": [
    {
     "data": {
      "image/png": "[encoded data removed]",
      "text/plain": [
       "<Figure size 432x288 with 1 Axes>"
      ]
     },
     "metadata": {
      "needs_background": "light"
     },
     "output_type": "display_data"
    }
   ],
   "source": [
    "pca = PCA().fit(X_train)\n",
    "plt.plot(np.cumsum(pca.explained_variance_ratio_))\n",
    "plt.xlabel('number of components')\n",
    "plt.ylabel('cumulative explained variance');"
   ]
  },
  {
   "cell_type": "code",
   "execution_count": 118,
   "metadata": {},
   "outputs": [
    {
     "name": "stdout",
     "output_type": "stream",
     "text": [
      "331\n"
     ]
    }
   ],
   "source": [
    "for k in range(200, 500):\n",
    "    S = pca.explained_variance_ratio_\n",
    "    if sum(S[:k]) / sum(S) >= 0.99:\n",
    "        K = k # reduced num of features\n",
    "        print(k)\n",
    "        break"
   ]
  },
  {
   "cell_type": "code",
   "execution_count": 119,
   "metadata": {},
   "outputs": [],
   "source": [
    "pca = PCA(n_components=K)\n",
    "\n",
    "X_combined = np.concatenate([X_train, X_test])\n",
    "X_combined = pca.fit_transform(X_combined)\n",
    "X_train_reduced = X_combined[:42000, :]\n",
    "X_test_reduced = X_combined[42000:, :]"
   ]
  },
  {
   "cell_type": "code",
   "execution_count": 120,
   "metadata": {},
   "outputs": [],
   "source": [
    "def sigmoid(z):\n",
    "    z = np.ones(z.shape) / (1 + np.exp(-z))\n",
    "    return z\n",
    "\n",
    "# return cost function and partial derivatives for gradient\n",
    "def nn(nn_params, X, y):\n",
    "    input_layer_size = 331 # 28x28 Input Images of Digits # reduced features\n",
    "    hidden_layer_size = 300   # 49 hidden units (1/16 the size of input layer)\n",
    "    num_labels = 10                 # 10 labels, from 1 to 10 (note that we mapped \"0\" to label 10)\n",
    "    reg_lambda = 0\n",
    "    ones = np.reshape(np.ones(len(X)), (len(X), 1))\n",
    "    X = np.concatenate((ones, X), axis=1)\n",
    "\n",
    "    # Reshape nn_params back into the parameters Theta1 and Theta2, the weight matrices\n",
    "    # for our 2 layer neural network\n",
    "    Theta1 = np.reshape(nn_params[:hidden_layer_size * (input_layer_size + 1)],\n",
    "                     (hidden_layer_size, (input_layer_size + 1)))\n",
    "    Theta2 = np.reshape(nn_params[(hidden_layer_size * (input_layer_size + 1)):],\n",
    "                     (num_labels, (hidden_layer_size + 1)))\n",
    "\n",
    "    m = len(X) \n",
    "    Theta1_grad = np.zeros(Theta1.shape) \n",
    "    Theta2_grad = np.zeros(Theta2.shape) \n",
    "\n",
    "    eye_matrix = np.eye(num_labels) \n",
    "    y = np.ravel(y)\n",
    "    y_matrix = eye_matrix[y,:]  # 5000 x 10 # y must be 1-D array\n",
    "    \n",
    "    a1 = X  # (5000, 785)\n",
    "    z2 = a1 @ Theta1.T  # (5000, 785) * (785, 49) => 5000 x 49\n",
    "    a2 = sigmoid(z2)  # 5000 x 49\n",
    "    a2 = np.hstack((np.ones((len(X), 1)), a2)) # 5000 x 50\n",
    "    z3 = a2 @ Theta2.T # 5000 x 50 * 50 x 10\n",
    "    a3 = sigmoid(z3)   # 5000 x 10\n",
    "    \n",
    "    pre_allocated = np.empty_like(a3)\n",
    "    d3 = np.subtract(a3, y_matrix, out=pre_allocated)\n",
    "    d2 = d3 @ Theta2[:, 1:] * sigmoid(z2)  # 5000 x 10 * 10 x 49 => 5000 x 49\n",
    "   \n",
    "    Theta1_grad = 1/m * (Theta1_grad + d2.T @ a1)  # 49 x 5000 * 5000 x 785 => (49, 785)\n",
    "    Theta2_grad = 1/m * (Theta2_grad + d3.T @ a2)  # 10 x 5000 * 5000 x 50  => (10, 50)   \n",
    "    \n",
    "    Theta1_grad[:, 1:] = Theta1_grad[:, 1:] + 1/m * (reg_lambda * Theta1[:, 1:])  \n",
    "    Theta2_grad[:, 1:] = Theta2_grad[:, 1:] + 1/m * (reg_lambda * Theta2[:, 1:])    \n",
    "\n",
    "    term1 = expit(np.log(a3))\n",
    "    term2 = expit(np.log(1 - a3))\n",
    "    \n",
    "    J = -1/m * (sum(sum(y_matrix * term1 + (1 - y_matrix) * term2)))\n",
    "    + reg_lambda/(2*m) * (sum(sum(Theta1[:, 1:] ** 2)) + sum(sum(Theta2[:, 1:] ** 2))) \n",
    "\n",
    "    grad = np.concatenate((np.ravel(Theta1_grad), np.ravel(Theta2_grad))) # Unroll gradients\n",
    "    return J, grad\n",
    "\n",
    "def CostFunc(nn_params, X, y):\n",
    "    J = nn(nn_params, X, y)[0]\n",
    "    return J\n",
    "def Gradient(nn_params, X, y):\n",
    "    grad = nn(nn_params, X, y)[1]\n",
    "    return grad"
   ]
  },
  {
   "cell_type": "code",
   "execution_count": 122,
   "metadata": {},
   "outputs": [
    {
     "name": "stderr",
     "output_type": "stream",
     "text": [
      "/Users/eloisezeng/opt/anaconda3/lib/python3.7/site-packages/ipykernel_launcher.py:47: RuntimeWarning: divide by zero encountered in log\n"
     ]
    },
    {
     "data": {
      "text/plain": [
       "(102610,)"
      ]
     },
     "execution_count": 122,
     "metadata": {},
     "output_type": "execute_result"
    }
   ],
   "source": [
    "Theta1 = np.random.uniform(size=(300, 332)) # size([# hidden units], [# input units + 1])\n",
    "Theta2 = np.random.uniform(size=(10, 301))  # size([# output units], [# hidden units + 1])\n",
    "nn_params = np.concatenate((np.ravel(Theta1), np.ravel(Theta2)))\n",
    "Trial = Gradient(nn_params, X_train_reduced, y_train)\n",
    "Trial.shape"
   ]
  },
  {
   "cell_type": "code",
   "execution_count": 124,
   "metadata": {},
   "outputs": [
    {
     "name": "stderr",
     "output_type": "stream",
     "text": [
      "/Users/eloisezeng/opt/anaconda3/lib/python3.7/site-packages/ipykernel_launcher.py:47: RuntimeWarning: divide by zero encountered in log\n"
     ]
    },
    {
     "data": {
      "text/plain": [
       "     fun: -0.5490654911327446\n",
       "     jac: array([1.93102553, 0.96538226, 0.40983748, ..., 0.46616603, 0.50149863,\n",
       "       0.48009527])\n",
       " message: 'Converged (|f_n-f_(n-1)| ~= 0)'\n",
       "    nfev: 51\n",
       "     nit: 1\n",
       "  status: 1\n",
       " success: True\n",
       "       x: array([0.94498323, 0.69796635, 0.36063899, ..., 0.34222626, 0.50800316,\n",
       "       0.32749135])"
      ]
     },
     "execution_count": 124,
     "metadata": {},
     "output_type": "execute_result"
    }
   ],
   "source": [
    "import scipy.optimize as op\n",
    "\n",
    "input_layer_size  = 331  # 28x28 Input Images of Digits\n",
    "hidden_layer_size = 300   # 49 hidden units (1/16 the size of input layer)\n",
    "num_labels = 10          # 10 labels, from 1 to 10 (note that we mapped \"0\" to label 10)\n",
    " \n",
    "Theta1 = np.random.uniform(size=(300, 332)) # size([# hidden units], [# input units + 1])\n",
    "Theta2 = np.random.uniform(size=(10, 301))  # size([# output units], [# hidden units + 1])\n",
    "nn_params = np.concatenate((np.ravel(Theta1), np.ravel(Theta2)))\n",
    "\n",
    "Result = op.minimize(fun = CostFunc, \n",
    "                    x0 = nn_params, \n",
    "                    args = (X_train_reduced, y_train),\n",
    "                    jac = Gradient, method='TNC') \n",
    "\n",
    "nn_params = Result.x # optimal theta\n",
    "Result"
   ]
  },
  {
   "cell_type": "code",
   "execution_count": 125,
   "metadata": {},
   "outputs": [],
   "source": [
    "Theta1 = np.reshape(nn_params[:hidden_layer_size * (input_layer_size + 1)],\n",
    "                     (hidden_layer_size, (input_layer_size + 1)))\n",
    "Theta2 = np.reshape(nn_params[(hidden_layer_size * (input_layer_size + 1)):],\n",
    "                     (num_labels, (hidden_layer_size + 1)))"
   ]
  },
  {
   "cell_type": "code",
   "execution_count": 126,
   "metadata": {},
   "outputs": [],
   "source": [
    "def predict(Theta1, Theta2, X):\n",
    "    m = len(X)\n",
    "    num_labels = Theta2.shape[0]\n",
    "    \n",
    "    X = np.hstack((np.ones((len(X), 1)), X)) # (42000, 332)\n",
    "    print(X.shape)\n",
    "    h1 = sigmoid(X @ Theta1.T) # (42000, 332) * (332, 300)\n",
    "    print(h1.shape)\n",
    "    h1 = np.hstack((np.ones((len(X), 1)), h1)) # (42000, 101)\n",
    "    h2 = sigmoid(h1 @ Theta2.T) # (42000, 101) * 101 x 10\n",
    "    print(h2.shape)\n",
    "    p = np.argmax(h2, axis=1)\n",
    "    print(p.shape)\n",
    "    return p"
   ]
  },
  {
   "cell_type": "code",
   "execution_count": 127,
   "metadata": {},
   "outputs": [
    {
     "name": "stdout",
     "output_type": "stream",
     "text": [
      "(42000, 332)\n",
      "(42000, 300)\n",
      "(42000, 10)\n",
      "(42000,)\n"
     ]
    },
    {
     "data": {
      "text/plain": [
       "array([0, 0, 5, 5, 1, 0, 0, 0, 0, 0, 0, 0, 0, 0, 0, 0, 0, 0, 8, 0, 2, 6,\n",
       "       0, 0, 0, 0, 7, 0, 1, 0, 0, 0, 0, 0, 0, 0, 0, 0, 8, 0, 0, 0, 5, 0,\n",
       "       0, 0, 0, 2, 0, 0, 3, 0, 0, 0, 0, 0, 0, 0, 7, 0, 0, 0, 2, 0, 0, 2,\n",
       "       0, 0, 9, 0, 4, 0, 0, 0, 2, 8, 2, 8, 0, 0, 2, 0, 0, 0, 0, 8, 0, 0,\n",
       "       0, 2, 2, 0, 0, 0, 0, 0, 0, 2, 0, 0])"
      ]
     },
     "execution_count": 127,
     "metadata": {},
     "output_type": "execute_result"
    }
   ],
   "source": [
    "predict(Theta1, Theta2, X_train_reduced)[:100]"
   ]
  },
  {
   "cell_type": "code",
   "execution_count": 128,
   "metadata": {},
   "outputs": [
    {
     "name": "stdout",
     "output_type": "stream",
     "text": [
      "(42000, 332)\n",
      "(42000, 300)\n",
      "(42000, 10)\n",
      "(42000,)\n",
      "12.152 %\n"
     ]
    }
   ],
   "source": [
    "accuracy = sum(predict(Theta1, Theta2, X_train_reduced) == np.ravel(y_train)) / len(X_train_reduced)\n",
    "print(str(round(accuracy * 100, 3)) + \" %\")"
   ]
  },
  {
   "cell_type": "code",
   "execution_count": 129,
   "metadata": {},
   "outputs": [
    {
     "name": "stdout",
     "output_type": "stream",
     "text": [
      "(18000, 332)\n",
      "(18000, 300)\n",
      "(18000, 10)\n",
      "(18000,)\n",
      "12.122 %\n"
     ]
    }
   ],
   "source": [
    "accuracy = sum(predict(Theta1, Theta2, X_test_reduced) == np.ravel(y_test)) / len(X_test_reduced)\n",
    "print(str(round(accuracy * 100, 3)) + \" %\")"
   ]
  },
  {
   "cell_type": "code",
   "execution_count": null,
   "metadata": {},
   "outputs": [],
   "source": []
  }
 ],
 "metadata": {
  "kernelspec": {
   "display_name": "Python 3",
   "language": "python",
   "name": "python3"
  },
  "language_info": {
   "codemirror_mode": {
    "name": "ipython",
    "version": 3
   },
   "file_extension": ".py",
   "mimetype": "text/x-python",
   "name": "python",
   "nbconvert_exporter": "python",
   "pygments_lexer": "ipython3",
   "version": "3.7.4"
  }
 },
 "nbformat": 4,
 "nbformat_minor": 4
}
