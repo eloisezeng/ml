{
 "cells": [
  {
   "cell_type": "code",
   "execution_count": null,
   "metadata": {},
   "outputs": [],
   "source": [
    "import numpy as np\n",
    "import csv\n",
    "from PIL import Image\n",
    "import matplotlib.pyplot as plt\n",
    "import matplotlib.image as mpimg\n",
    "%matplotlib inline\n",
    "counter = dict()\n",
    "cnt = 1\n",
    "with open('mnist_train.csv') as csv_file:\n",
    "    csv_reader = csv.reader(csv_file)\n",
    "\n",
    "    # skip headers\n",
    "    next(csv_reader)\n",
    "\n",
    "    for row in csv_reader:\n",
    "\n",
    "        pixels = row[:-1] # without label\n",
    "        pixels = np.array(pixels, dtype='float')\n",
    "        pixels = pixels.reshape((28, 28))\n",
    "\n",
    "        label = row[-1]\n",
    "\n",
    "        if label not in counter:\n",
    "            counter[label] = 0\n",
    "        counter[label] += 1\n",
    "\n",
    "        filename = '{}{}.png'.format(label, counter[label])\n",
    "        plt.imsave(filename, pixels)\n",
    "        img=mpimg.imread(filename)\n",
    "        imgplot = plt.imshow(img)\n",
    "        plt.show()\n",
    "        \n",
    "        num = 10 # Number of pictures you want to display\n",
    "        if num == cnt:\n",
    "            break\n",
    "        cnt += 1\n",
    "\n",
    "    # print('saved:', filename)"
   ]
  },
  {
   "cell_type": "code",
   "execution_count": null,
   "metadata": {},
   "outputs": [],
   "source": []
  }
 ],
 "metadata": {
  "kernelspec": {
   "display_name": "Python 3",
   "language": "python",
   "name": "python3"
  },
  "language_info": {
   "codemirror_mode": {
    "name": "ipython",
    "version": 3
   },
   "file_extension": ".py",
   "mimetype": "text/x-python",
   "name": "python",
   "nbconvert_exporter": "python",
   "pygments_lexer": "ipython3",
   "version": "3.7.4"
  }
 },
 "nbformat": 4,
 "nbformat_minor": 4
}
